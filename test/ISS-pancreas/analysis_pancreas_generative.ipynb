{
 "cells": [
  {
   "attachments": {},
   "cell_type": "markdown",
   "metadata": {},
   "source": [
    "## Generative model for a Human Pancreas Topograhic Maps\n",
    "\n",
    "Data from Tosti et al, 2021"
   ]
  },
  {
   "cell_type": "code",
   "execution_count": 1,
   "metadata": {},
   "outputs": [],
   "source": [
    "%load_ext autoreload\n",
    "%autoreload 2\n",
    "%matplotlib inline"
   ]
  },
  {
   "cell_type": "code",
   "execution_count": 2,
   "metadata": {},
   "outputs": [],
   "source": [
    "import numpy as np\n",
    "import os\n",
    "import matplotlib.pyplot as plt"
   ]
  },
  {
   "cell_type": "code",
   "execution_count": 3,
   "metadata": {},
   "outputs": [],
   "source": [
    "from sonar import sonar, utils, generator"
   ]
  },
  {
   "cell_type": "code",
   "execution_count": 4,
   "metadata": {},
   "outputs": [],
   "source": [
    "rel_kernel_path = 'test/ISS-pancreas' #\".\"\n"
   ]
  },
  {
   "cell_type": "code",
   "execution_count": 5,
   "metadata": {},
   "outputs": [],
   "source": [
    "# Define the cluster labels of the pancreas tissue matrix:\n",
    "\n",
    "cluster_labels = ['background',\n",
    " 'Acinar-i',\n",
    " 'Acinar-s',\n",
    " 'Acinar-REG+',\n",
    " 'Activated Stellate',\n",
    " 'Quiescent Stellate',\n",
    " 'Alpha',\n",
    " 'Beta',\n",
    " 'Gamma (PP)',\n",
    " 'Delta',\n",
    " 'Ductal',\n",
    " 'MUC5B+ Ductal (PDG)',\n",
    " 'MHC Class II',\n",
    " 'Schwan',\n",
    " 'B cell',\n",
    " 'T cell',\n",
    "# 'Endothelial'\n",
    "]"
   ]
  },
  {
   "cell_type": "code",
   "execution_count": 6,
   "metadata": {},
   "outputs": [],
   "source": [
    "n_sample = 1\n",
    "\n",
    "# Load the pancreas tissue matrix:\n",
    "\n",
    "tissue_matrix = np.load(os.path.join( *rel_kernel_path.split('/'), 'data','sample_matrices.npz'))['sample_'+str(n_sample)]"
   ]
  },
  {
   "cell_type": "code",
   "execution_count": 7,
   "metadata": {},
   "outputs": [],
   "source": [
    "# plt.figure(figsize=(10,10))\n",
    "# plt.imshow(tissue_matrix.argmax(axis=0),cmap='nipy_spectral',interpolation='none',vmax=len(cluster_labels)-1,alpha=(tissue_matrix.sum(0)!=0).astype(float))\n",
    "\n",
    "# # Create a legend for different tissue types:\n",
    "# legend_elements = [plt.scatter([],[],c=plt.cm.nipy_spectral(i/len(cluster_labels)),label=cluster_labels[i]) for i in range(len(cluster_labels))]\n",
    "\n",
    "# plt.legend(handles=legend_elements,loc='upper right')"
   ]
  },
  {
   "cell_type": "code",
   "execution_count": 8,
   "metadata": {},
   "outputs": [],
   "source": [
    "rescaled = utils.rescale_topographic_tensor(tissue_matrix, scaling_factor=0.4).numpy()\n",
    "\n",
    "del tissue_matrix"
   ]
  },
  {
   "cell_type": "code",
   "execution_count": 9,
   "metadata": {},
   "outputs": [],
   "source": [
    "# plt.imshow(rescaled.argmax(axis=0),cmap='nipy_spectral',interpolation='none',vmax=len(cluster_labels)-1,alpha=(rescaled.sum(0)!=0).astype(float))"
   ]
  },
  {
   "attachments": {},
   "cell_type": "markdown",
   "metadata": {},
   "source": [
    "Changing tasks between cpu and gpu"
   ]
  },
  {
   "cell_type": "code",
   "execution_count": 10,
   "metadata": {},
   "outputs": [
    {
     "data": {
      "text/plain": [
       "device(type='cuda', index=0)"
      ]
     },
     "execution_count": 10,
     "metadata": {},
     "output_type": "execute_result"
    }
   ],
   "source": [
    "import torch\n",
    "\n",
    "if torch.cuda.is_available():\n",
    "    import torch as t\n",
    "    device = 'cuda:0' # put it in a gpu\n",
    "else:\n",
    "    import torch as t\n",
    "    device='cpu'\n",
    "\n",
    "# unrelated to the NoteBook, the example of a tensor and how to work with it\n",
    "new_tens = t.zeros(2,2,2, device=device).cuda()\n",
    "new_tens.device"
   ]
  },
  {
   "cell_type": "code",
   "execution_count": 11,
   "metadata": {},
   "outputs": [
    {
     "name": "stderr",
     "output_type": "stream",
     "text": [
      "/dh-projects/ag-ishaque/analysis/tiesmeys/src/sonar/sonar/sonar.py:64: UserWarning: Creating a tensor from a list of numpy.ndarrays is extremely slow. Please consider converting the list to a single numpy.ndarray with numpy.array() before converting to a tensor. (Triggered internally at /home/conda/feedstock_root/build_artifacts/pytorch-recipe_1680557665316/work/torch/csrc/utils/tensor_new.cpp:245.)\n",
      "  kernels = t.tensor(kernels,dtype=torch.float32)\n",
      "/dh-projects/ag-ishaque/analysis/tiesmeys/src/sonar/sonar/sonar.py:107: UserWarning: To copy construct from a tensor, it is recommended to use sourceTensor.clone().detach() or sourceTensor.clone().detach().requires_grad_(True), rather than torch.tensor(sourceTensor).\n",
      "  self.kernels = t.tensor(self.kernels,dtype=torch.float32,device=device)\n"
     ]
    },
    {
     "ename": "OutOfMemoryError",
     "evalue": "CUDA out of memory. Tried to allocate 998.00 MiB (GPU 0; 31.75 GiB total capacity; 6.91 GiB already allocated; 640.75 MiB free; 8.26 GiB reserved in total by PyTorch) If reserved memory is >> allocated memory try setting max_split_size_mb to avoid fragmentation.  See documentation for Memory Management and PYTORCH_CUDA_ALLOC_CONF",
     "output_type": "error",
     "traceback": [
      "\u001b[0;31m---------------------------------------------------------------------------\u001b[0m",
      "\u001b[0;31mOutOfMemoryError\u001b[0m                          Traceback (most recent call last)",
      "Cell \u001b[0;32mIn[11], line 12\u001b[0m\n\u001b[1;32m      8\u001b[0m lin \u001b[39m=\u001b[39m \u001b[39m10\u001b[39m\n\u001b[1;32m     10\u001b[0m son \u001b[39m=\u001b[39m sonar\u001b[39m.\u001b[39mSonar(max_radius\u001b[39m=\u001b[39mrad_,linear_steps\u001b[39m=\u001b[39mlin)\n\u001b[0;32m---> 12\u001b[0m cooc_template_,radii \u001b[39m=\u001b[39m son\u001b[39m.\u001b[39mco_occurrence_from_tensor(rescaled,interpolate\u001b[39m=\u001b[39m\u001b[39mFalse\u001b[39;00m,normalize\u001b[39m=\u001b[39m\u001b[39mFalse\u001b[39;00m)\n",
      "File \u001b[0;32m/dh-projects/ag-ishaque/analysis/tiesmeys/src/sonar/sonar/sonar.py:162\u001b[0m, in \u001b[0;36mSonar.co_occurrence_from_tensor\u001b[0;34m(self, hists, interpolate, tissue_mask, progbar, normalize)\u001b[0m\n\u001b[1;32m    160\u001b[0m h1_fft \u001b[39m=\u001b[39m t\u001b[39m.\u001b[39mfft\u001b[39m.\u001b[39mrfftn(hists[i]\u001b[39m.\u001b[39mfloat(), fshape,dim\u001b[39m=\u001b[39m[\u001b[39m0\u001b[39m,\u001b[39m1\u001b[39m])\n\u001b[1;32m    161\u001b[0m h1_fftprod \u001b[39m=\u001b[39m  (h1_fft\u001b[39m*\u001b[39mkernels_fft)\n\u001b[0;32m--> 162\u001b[0m h1_conv \u001b[39m=\u001b[39m t\u001b[39m.\u001b[39mfft\u001b[39m.\u001b[39mirfftn(h1_fftprod,fshape,dim\u001b[39m=\u001b[39m[\u001b[39m1\u001b[39m,\u001b[39m2\u001b[39m])\u001b[39m.\u001b[39mfloat()\n\u001b[1;32m    163\u001b[0m h1_conv_ \u001b[39m=\u001b[39m  h1_conv[:,width_kernel\u001b[39m/\u001b[39m\u001b[39m/\u001b[39m\u001b[39m2\u001b[39m:width_kernel\u001b[39m/\u001b[39m\u001b[39m/\u001b[39m\u001b[39m2\u001b[39m\u001b[39m+\u001b[39mhists[\u001b[39m0\u001b[39m]\u001b[39m.\u001b[39mshape[\u001b[39m0\u001b[39m],\n\u001b[1;32m    164\u001b[0m                 width_kernel\u001b[39m/\u001b[39m\u001b[39m/\u001b[39m\u001b[39m2\u001b[39m:width_kernel\u001b[39m/\u001b[39m\u001b[39m/\u001b[39m\u001b[39m2\u001b[39m\u001b[39m+\u001b[39mhists[\u001b[39m0\u001b[39m]\u001b[39m.\u001b[39mshape[\u001b[39m1\u001b[39m]] \u001b[39m#signal._signaltools._centered(h1_conv,[len(kernels)]+fshape).copy()\u001b[39;00m\n\u001b[1;32m    166\u001b[0m h1_product\u001b[39m=\u001b[39mh1_conv_\u001b[39m*\u001b[39mhists[i]\u001b[39m#/np.sum(kernels,axis=(1,2))[:,None,None]\u001b[39;00m\n",
      "\u001b[0;31mOutOfMemoryError\u001b[0m: CUDA out of memory. Tried to allocate 998.00 MiB (GPU 0; 31.75 GiB total capacity; 6.91 GiB already allocated; 640.75 MiB free; 8.26 GiB reserved in total by PyTorch) If reserved memory is >> allocated memory try setting max_split_size_mb to avoid fragmentation.  See documentation for Memory Management and PYTORCH_CUDA_ALLOC_CONF"
     ]
    }
   ],
   "source": [
    "def sig(t, k=1):\n",
    "    return ((1)/(1+(torch.exp(-t*k))))\n",
    "\n",
    "def smax(t,k=5):\n",
    "    return (torch.exp(t*k)/(torch.exp(t*k).sum(0)))\n",
    "\n",
    "rad_ =150\n",
    "lin = 10\n",
    "\n",
    "son = sonar.Sonar(max_radius=rad_,linear_steps=lin)\n",
    "\n",
    "cooc_template_,radii = son.co_occurrence_from_tensor(rescaled,interpolate=False,normalize=False)\n"
   ]
  },
  {
   "attachments": {},
   "cell_type": "markdown",
   "metadata": {},
   "source": [
    "### Run generative model:"
   ]
  },
  {
   "cell_type": "code",
   "execution_count": null,
   "metadata": {},
   "outputs": [
    {
     "name": "stderr",
     "output_type": "stream",
     "text": [
      "100%|████████████████████████████████████████████████████████████████████████████████████████████████████████████████████████████████████████████████████████████████████████████████████████| 800/800 [01:25<00:00,  9.33it/s]\n"
     ]
    }
   ],
   "source": [
    "gen = generator.Generator(sonar=son)\n",
    "\n",
    "sample = gen.generate(template_co_occurrence=cooc_template_,\n",
    "                      iterations=800,\n",
    "                      momentum=0.5,\n",
    "                      lr=5,\n",
    "                      render_args = {'steps_per_frame':5,'save_dir':'./test/ISS-pancreas/output/generator-frames'})\n",
    "# plt.imshow(rescaled[8])\n",
    "# plt.rcParams['figure.figsize'] = [11, 6]"
   ]
  },
  {
   "cell_type": "code",
   "execution_count": null,
   "metadata": {},
   "outputs": [
    {
     "data": {
      "text/plain": [
       "<matplotlib.image.AxesImage at 0x7fde9efc1ed0>"
      ]
     },
     "execution_count": 51,
     "metadata": {},
     "output_type": "execute_result"
    },
    {
     "data": {
      "image/png": "[encoded data removed]",
      "text/plain": [
       "<Figure size 600x600 with 1 Axes>"
      ]
     },
     "metadata": {},
     "output_type": "display_data"
    }
   ],
   "source": [
    "plt.figure(figsize=(6,6))\n",
    "\n",
    "plt.imshow(sample.argmax(0).cpu(),cmap='nipy_spectral',interpolation='none',vmax=len(cluster_labels)-1)"
   ]
  }
 ],
 "metadata": {
  "kernelspec": {
   "display_name": "Python 3 (ipykernel)",
   "language": "python",
   "name": "python3"
  },
  "language_info": {
   "codemirror_mode": {
    "name": "ipython",
    "version": 3
   },
   "file_extension": ".py",
   "mimetype": "text/x-python",
   "name": "python",
   "nbconvert_exporter": "python",
   "pygments_lexer": "ipython3",
   "version": "3.11.3"
  },
  "orig_nbformat": 4
 },
 "nbformat": 4,
 "nbformat_minor": 2
}
